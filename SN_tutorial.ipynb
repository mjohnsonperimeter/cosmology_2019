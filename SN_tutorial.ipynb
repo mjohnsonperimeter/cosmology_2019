{
  "nbformat": 4,
  "nbformat_minor": 0,
  "metadata": {
    "colab": {
      "name": "SN_tutorial.ipynb",
      "provenance": [],
      "collapsed_sections": [],
      "authorship_tag": "ABX9TyPlmSrrlbXr8SRZFOKau0MX",
      "include_colab_link": true
    },
    "kernelspec": {
      "name": "python3",
      "display_name": "Python 3"
    }
  },
  "cells": [
    {
      "cell_type": "markdown",
      "metadata": {
        "id": "view-in-github",
        "colab_type": "text"
      },
      "source": [
        "<a href=\"https://colab.research.google.com/github/mjohnsonperimeter/cosmology_2019/blob/master/SN_tutorial.ipynb\" target=\"_parent\"><img src=\"https://colab.research.google.com/assets/colab-badge.svg\" alt=\"Open In Colab\"/></a>"
      ]
    },
    {
      "cell_type": "code",
      "metadata": {
        "id": "mhXwvhMequyn",
        "colab_type": "code",
        "colab": {
          "base_uri": "https://localhost:8080/",
          "height": 380
        },
        "outputId": "ba219171-bffa-4d88-e8e2-6649c6e356fe"
      },
      "source": [
        "!pip install camb"
      ],
      "execution_count": 1,
      "outputs": [
        {
          "output_type": "stream",
          "text": [
            "Collecting camb\n",
            "\u001b[?25l  Downloading https://files.pythonhosted.org/packages/92/07/8e9346a53d77e4fa6663da640760a97202520a35c3fae0ae82d43746dead/camb-1.1.0.tar.gz (32.0MB)\n",
            "\u001b[K     |████████████████████████████████| 32.0MB 122kB/s \n",
            "\u001b[?25hRequirement already satisfied: scipy>=1.0 in /usr/local/lib/python3.6/dist-packages (from camb) (1.4.1)\n",
            "Requirement already satisfied: six in /usr/local/lib/python3.6/dist-packages (from camb) (1.12.0)\n",
            "Requirement already satisfied: sympy>=1.0 in /usr/local/lib/python3.6/dist-packages (from camb) (1.1.1)\n",
            "Requirement already satisfied: numpy>=1.13.3 in /usr/local/lib/python3.6/dist-packages (from scipy>=1.0->camb) (1.17.5)\n",
            "Requirement already satisfied: mpmath>=0.19 in /usr/local/lib/python3.6/dist-packages (from sympy>=1.0->camb) (1.1.0)\n",
            "Building wheels for collected packages: camb\n",
            "  Building wheel for camb (setup.py) ... \u001b[?25l\u001b[?25hdone\n",
            "  Created wheel for camb: filename=camb-1.1.0-cp36-none-any.whl size=912758 sha256=2b9e0a44bd851ad724e888e65d8531b3a956db2cfa53bf3cb496c11281a3a72d\n",
            "  Stored in directory: /root/.cache/pip/wheels/52/d0/76/aea0e7192efbc373eaec579a4d18909518a90a6cc10f07625b\n",
            "Successfully built camb\n",
            "Installing collected packages: camb\n",
            "Successfully installed camb-1.1.0\n"
          ],
          "name": "stdout"
        }
      ]
    },
    {
      "cell_type": "code",
      "metadata": {
        "id": "qIjapeAXtnLn",
        "colab_type": "code",
        "outputId": "08b958e7-24e9-45d0-d6af-f381c34bf7a8",
        "colab": {
          "base_uri": "https://localhost:8080/",
          "height": 34
        }
      },
      "source": [
        "import urllib\n",
        "import numpy as np\n",
        "import matplotlib\n",
        "from matplotlib import pyplot as plt\n",
        "import sys, platform, os\n",
        "import camb\n",
        "\n",
        "urllib.request.urlretrieve(url = \"https://www.dropbox.com/s/js3vsjtbeirnd7y/SCPUnion2.1_mu_vs_z.txt?dl=1\",filename = \"SCPUnion2.1_mu_vs_z.txt\")"
      ],
      "execution_count": 2,
      "outputs": [
        {
          "output_type": "execute_result",
          "data": {
            "text/plain": [
              "('SCPUnion2.1_mu_vs_z.txt', <http.client.HTTPMessage at 0x7f50e4f31710>)"
            ]
          },
          "metadata": {
            "tags": []
          },
          "execution_count": 2
        }
      ]
    },
    {
      "cell_type": "code",
      "metadata": {
        "id": "18dkNeTotruj",
        "colab_type": "code",
        "colab": {}
      },
      "source": [
        "z_data=np.loadtxt(fname = 'SCPUnion2.1_mu_vs_z.txt',usecols=(1))\n",
        "mag_data=np.loadtxt(fname = 'SCPUnion2.1_mu_vs_z.txt',usecols=(2))\n",
        "error_data=np.loadtxt(fname = 'SCPUnion2.1_mu_vs_z.txt',usecols=(3))\n",
        "error=error_data*mag_data"
      ],
      "execution_count": 0,
      "outputs": []
    },
    {
      "cell_type": "code",
      "metadata": {
        "id": "EMZT1H87sDhq",
        "colab_type": "code",
        "colab": {}
      },
      "source": [
        "# Hubble constant in km/s/Mpc\n",
        "H_0 = 67.5\n",
        "# baryon and cdm fraction multiplied by h^2\n",
        "omega_bh2 = 0.0224\n",
        "omega_ch2 = 0.120\n",
        "# Curvature\n",
        "omega_k = 0.0\n",
        "# Neutrino mass\n",
        "nu_mass = 0.06\n",
        "\n",
        "# Set within CAMB\n",
        "pars = camb.CAMBparams()\n",
        "pars.set_cosmology(H0=H_0, ombh2=omega_bh2, omch2=omega_ch2, mnu=nu_mass, omk=omega_k)\n",
        "results = camb.get_background(pars)\n",
        "\n",
        "z = np.linspace(0.01,1.5,100)\n",
        "DL = results.luminosity_distance(z)\n",
        "DL_lowz = ((2.99e5)/H_0)*z\n",
        "dm = 5.*np.log10(DL/(1e-5))\n",
        "dm_lowz = 5.*np.log10(DL_lowz/(1e-5))"
      ],
      "execution_count": 0,
      "outputs": []
    },
    {
      "cell_type": "code",
      "metadata": {
        "id": "fytCIvtbuHDt",
        "colab_type": "code",
        "outputId": "c800adf5-d249-446b-e9af-3fcb1edf0dae",
        "colab": {
          "base_uri": "https://localhost:8080/",
          "height": 282
        }
      },
      "source": [
        "plt.errorbar(z_data,mag_data,error_data,fmt='o',ms=.25)\n",
        "plt.plot(z,dm)\n",
        "plt.plot(z,dm_lowz)"
      ],
      "execution_count": 24,
      "outputs": [
        {
          "output_type": "execute_result",
          "data": {
            "text/plain": [
              "[<matplotlib.lines.Line2D at 0x7f50e3decd68>]"
            ]
          },
          "metadata": {
            "tags": []
          },
          "execution_count": 24
        },
        {
          "output_type": "display_data",
          "data": {
            "image/png": "[encoded data removed]",
            "text/plain": [
              "<Figure size 432x288 with 1 Axes>"
            ]
          },
          "metadata": {
            "tags": []
          }
        }
      ]
    },
    {
      "cell_type": "code",
      "metadata": {
        "id": "0xHSRH3Nv7yq",
        "colab_type": "code",
        "colab": {}
      },
      "source": [
        ""
      ],
      "execution_count": 0,
      "outputs": []
    }
  ]
}