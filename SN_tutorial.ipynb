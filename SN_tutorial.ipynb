{
  "nbformat": 4,
  "nbformat_minor": 0,
  "metadata": {
    "colab": {
      "name": "SN_tutorial.ipynb",
      "provenance": [],
      "collapsed_sections": [],
      "authorship_tag": "ABX9TyOqKpa2ZnYYjHg6X0f4G/v4",
      "include_colab_link": true
    },
    "kernelspec": {
      "name": "python3",
      "display_name": "Python 3"
    }
  },
  "cells": [
    {
      "cell_type": "markdown",
      "metadata": {
        "id": "view-in-github",
        "colab_type": "text"
      },
      "source": [
        "<a href=\"https://colab.research.google.com/github/mjohnsonperimeter/cosmology_2019/blob/master/SN_tutorial.ipynb\" target=\"_parent\"><img src=\"https://colab.research.google.com/assets/colab-badge.svg\" alt=\"Open In Colab\"/></a>"
      ]
    },
    {
      "cell_type": "code",
      "metadata": {
        "id": "mhXwvhMequyn",
        "colab_type": "code",
        "outputId": "7f88b9aa-c9ef-41ba-c718-53b56c059d1b",
        "colab": {
          "base_uri": "https://localhost:8080/",
          "height": 360
        }
      },
      "source": [
        "!pip install camb"
      ],
      "execution_count": 1,
      "outputs": [
        {
          "output_type": "stream",
          "text": [
            "Collecting camb\n",
            "\u001b[?25l  Downloading https://files.pythonhosted.org/packages/92/07/8e9346a53d77e4fa6663da640760a97202520a35c3fae0ae82d43746dead/camb-1.1.0.tar.gz (32.0MB)\n",
            "\u001b[K     |████████████████████████████████| 32.0MB 139kB/s \n",
            "\u001b[?25hRequirement already satisfied: scipy>=1.0 in /usr/local/lib/python3.6/dist-packages (from camb) (1.4.1)\n",
            "Requirement already satisfied: six in /usr/local/lib/python3.6/dist-packages (from camb) (1.12.0)\n",
            "Requirement already satisfied: sympy>=1.0 in /usr/local/lib/python3.6/dist-packages (from camb) (1.1.1)\n",
            "Requirement already satisfied: numpy>=1.13.3 in /usr/local/lib/python3.6/dist-packages (from scipy>=1.0->camb) (1.17.5)\n",
            "Requirement already satisfied: mpmath>=0.19 in /usr/local/lib/python3.6/dist-packages (from sympy>=1.0->camb) (1.1.0)\n",
            "Building wheels for collected packages: camb\n",
            "  Building wheel for camb (setup.py) ... \u001b[?25l\u001b[?25hdone\n",
            "  Created wheel for camb: filename=camb-1.1.0-cp36-none-any.whl size=912758 sha256=6fe4e39edf8ee30d4b3955fc52a711ff3ee735ba031bc848d8bf5b2dac9ca0dc\n",
            "  Stored in directory: /root/.cache/pip/wheels/52/d0/76/aea0e7192efbc373eaec579a4d18909518a90a6cc10f07625b\n",
            "Successfully built camb\n",
            "Installing collected packages: camb\n",
            "Successfully installed camb-1.1.0\n"
          ],
          "name": "stdout"
        }
      ]
    },
    {
      "cell_type": "code",
      "metadata": {
        "id": "qIjapeAXtnLn",
        "colab_type": "code",
        "outputId": "cf861ef5-0cca-408a-fb81-0a8862397548",
        "colab": {
          "base_uri": "https://localhost:8080/",
          "height": 34
        }
      },
      "source": [
        "import urllib\n",
        "import numpy as np\n",
        "import matplotlib\n",
        "from matplotlib import pyplot as plt\n",
        "import sys, platform, os\n",
        "import camb\n",
        "\n",
        "urllib.request.urlretrieve(url = \"https://www.dropbox.com/s/js3vsjtbeirnd7y/SCPUnion2.1_mu_vs_z.txt?dl=1\",filename = \"SCPUnion2.1_mu_vs_z.txt\")"
      ],
      "execution_count": 2,
      "outputs": [
        {
          "output_type": "execute_result",
          "data": {
            "text/plain": [
              "('SCPUnion2.1_mu_vs_z.txt', <http.client.HTTPMessage at 0x7f3afc3ea780>)"
            ]
          },
          "metadata": {
            "tags": []
          },
          "execution_count": 2
        }
      ]
    },
    {
      "cell_type": "code",
      "metadata": {
        "id": "18dkNeTotruj",
        "colab_type": "code",
        "colab": {}
      },
      "source": [
        "z_data=np.loadtxt(fname = 'SCPUnion2.1_mu_vs_z.txt',usecols=(1))\n",
        "mag_data=np.loadtxt(fname = 'SCPUnion2.1_mu_vs_z.txt',usecols=(2))\n",
        "error_data=np.loadtxt(fname = 'SCPUnion2.1_mu_vs_z.txt',usecols=(3))"
      ],
      "execution_count": 0,
      "outputs": []
    },
    {
      "cell_type": "code",
      "metadata": {
        "id": "EMZT1H87sDhq",
        "colab_type": "code",
        "colab": {}
      },
      "source": [
        "# Hubble constant in km/s/Mpc\n",
        "H_0 = 67.5\n",
        "# baryon and cdm fraction multiplied by h^2\n",
        "omega_bh2 = 0.0224\n",
        "omega_ch2 = 0.120\n",
        "# Curvature\n",
        "omega_k = 0.0\n",
        "# Neutrino mass\n",
        "nu_mass = 0.06\n",
        "\n",
        "# Set within CAMB\n",
        "pars = camb.CAMBparams()\n",
        "pars.set_cosmology(H0=H_0, ombh2=omega_bh2, omch2=omega_ch2, mnu=nu_mass, omk=omega_k)\n",
        "results = camb.get_background(pars)\n",
        "\n",
        "z = np.linspace(0.01,1.5,100)\n",
        "DL = results.luminosity_distance(z)\n",
        "DL_lowz = ((2.99e5)/H_0)*z\n",
        "dm = 5.*np.log10(DL/(1e-5))\n",
        "dm_lowz = 5.*np.log10(DL_lowz/(1e-5))"
      ],
      "execution_count": 0,
      "outputs": []
    },
    {
      "cell_type": "code",
      "metadata": {
        "id": "fytCIvtbuHDt",
        "colab_type": "code",
        "outputId": "82adf3f9-5223-4c4c-cfb9-b2b41d6fda1b",
        "colab": {
          "base_uri": "https://localhost:8080/",
          "height": 282
        }
      },
      "source": [
        "plt.errorbar(z_data,mag_data,error_data,fmt='o',ms=.25)\n",
        "plt.plot(z,dm)\n",
        "plt.plot(z,dm_lowz)"
      ],
      "execution_count": 5,
      "outputs": [
        {
          "output_type": "execute_result",
          "data": {
            "text/plain": [
              "[<matplotlib.lines.Line2D at 0x7f3936dc22b0>]"
            ]
          },
          "metadata": {
            "tags": []
          },
          "execution_count": 5
        },
        {
          "output_type": "display_data",
          "data": {
            "image/png": "[encoded data removed]",
            "text/plain": [
              "<Figure size 432x288 with 1 Axes>"
            ]
          },
          "metadata": {
            "tags": []
          }
        }
      ]
    },
    {
      "cell_type": "code",
      "metadata": {
        "id": "0xHSRH3Nv7yq",
        "colab_type": "code",
        "outputId": "a499ca2d-9c66-4624-9392-5a9ae96cf413",
        "colab": {
          "base_uri": "https://localhost:8080/",
          "height": 282
        }
      },
      "source": [
        "# Hubble constant in km/s/Mpc\n",
        "H_0 = 67.5\n",
        "# baryon and cdm fraction multiplied by h^2\n",
        "omega_bh2 = 0.0224\n",
        "omega_ch2 = 0.120\n",
        "# Curvature\n",
        "omega_k = 0.0\n",
        "# Neutrino mass\n",
        "nu_mass = 0.06\n",
        "\n",
        "# Set within CAMB\n",
        "\n",
        "DL_lowz = ((2.99e5)/H_0)*z\n",
        "dm_lowz = 5.*np.log10(DL_lowz/(1e-5))\n",
        "\n",
        "pars = camb.CAMBparams()\n",
        "z = np.linspace(0.01,1.5,100)\n",
        "omegas = np.linspace(0,.9,4)\n",
        "\n",
        "for omega_ch2 in omegas:\n",
        "\n",
        "  pars.set_cosmology(H0=H_0, ombh2=omega_bh2, omch2=omega_ch2, mnu=nu_mass, omk=omega_k)\n",
        "  results = camb.get_background(pars)\n",
        "  DL = results.luminosity_distance(z)\n",
        "  dm = 5.*np.log10(DL/(1e-5))\n",
        "  plt.plot(z,dm)\n",
        "\n",
        "plt.plot(z,dm_lowz,'k--')\n",
        "plt.errorbar(z_data,mag_data,error_data,fmt='o',ms=.25)"
      ],
      "execution_count": 5,
      "outputs": [
        {
          "output_type": "execute_result",
          "data": {
            "text/plain": [
              "<ErrorbarContainer object of 3 artists>"
            ]
          },
          "metadata": {
            "tags": []
          },
          "execution_count": 5
        },
        {
          "output_type": "display_data",
          "data": {
            "image/png": "[encoded data removed]",
            "text/plain": [
              "<Figure size 432x288 with 1 Axes>"
            ]
          },
          "metadata": {
            "tags": []
          }
        }
      ]
    },
    {
      "cell_type": "code",
      "metadata": {
        "id": "QYD-WQN8y-Q-",
        "colab_type": "code",
        "colab": {}
      },
      "source": [
        "# Hubble constant in km/s/Mpc\n",
        "H_0 = 67.5\n",
        "# baryon and cdm fraction multiplied by h^2\n",
        "omega_bh2 = 0.0224\n",
        "omega_ch2 = 0.120\n",
        "# Curvature\n",
        "omega_k = 0.0\n",
        "# Neutrino mass\n",
        "nu_mass = 0.06\n",
        "\n",
        "omega_matter = results.get_Omega('cdm', 0.0001)+results.get_Omega('baryon', 0.0001)\n",
        "omega_rad = results.get_Omega('photon', 0.0001)+3.*results.get_Omega('nu', 0.0001)\n",
        "omega_DE = results.get_Omega('de', 0.0001)\n",
        "\n",
        "q0 = (omega_rad + 0.5*omega_matter - omega_DE)\n",
        "\n",
        "# Set within CAMB\n",
        "pars = camb.CAMBparams()\n",
        "pars.set_cosmology(H0=H_0, ombh2=omega_bh2, omch2=omega_ch2, mnu=nu_mass, omk=omega_k)\n",
        "results = camb.get_background(pars)\n",
        "\n",
        "z = np.linspace(0.01,1.5,100)\n",
        "DL = results.luminosity_distance(z)\n",
        "DL_lowz = ((2.99e5)/H_0)*z*(1+(1-q0)*z*0.5)\n",
        "dm = 5.*np.log10(DL/(1e-5))\n",
        "dm_lowz = 5.*np.log10(DL_lowz/(1e-5))"
      ],
      "execution_count": 0,
      "outputs": []
    },
    {
      "cell_type": "code",
      "metadata": {
        "id": "EnYwRCKB6vQs",
        "colab_type": "code",
        "outputId": "66c3407a-5b1f-4a16-c17a-b418e3112fdd",
        "colab": {
          "base_uri": "https://localhost:8080/",
          "height": 282
        }
      },
      "source": [
        "plt.errorbar(z_data,mag_data,error_data,fmt='o',ms=.25)\n",
        "plt.plot(z,dm,'r')\n",
        "plt.plot(z,dm_lowz,'b')"
      ],
      "execution_count": 9,
      "outputs": [
        {
          "output_type": "execute_result",
          "data": {
            "text/plain": [
              "[<matplotlib.lines.Line2D at 0x7f39367af860>]"
            ]
          },
          "metadata": {
            "tags": []
          },
          "execution_count": 9
        },
        {
          "output_type": "display_data",
          "data": {
            "image/png": "[encoded data removed]",
            "text/plain": [
              "<Figure size 432x288 with 1 Axes>"
            ]
          },
          "metadata": {
            "tags": []
          }
        }
      ]
    },
    {
      "cell_type": "code",
      "metadata": {
        "id": "Uj8x6xqu6ync",
        "colab_type": "code",
        "outputId": "9ff972cd-4068-4a89-b643-f8289eeaa5ae",
        "colab": {
          "base_uri": "https://localhost:8080/",
          "height": 34
        }
      },
      "source": [
        "print(q0)"
      ],
      "execution_count": 10,
      "outputs": [
        {
          "output_type": "stream",
          "text": [
            "-0.5252983952175369\n"
          ],
          "name": "stdout"
        }
      ]
    },
    {
      "cell_type": "code",
      "metadata": {
        "id": "MbNwkyZP67dP",
        "colab_type": "code",
        "colab": {}
      },
      "source": [
        "# Hubble constant in km/s/Mpc\n",
        "H_0 = 67.5\n",
        "# baryon and cdm fraction multiplied by h^2\n",
        "omega_bh2 = 0.0224\n",
        "omega_ch2 = 0.120\n",
        "# Curvature\n",
        "omega_k = 0.0\n",
        "# Neutrino mass\n",
        "nu_mass = 0.06\n",
        "\n",
        "pars = camb.CAMBparams()\n",
        "omegas = np.linspace(0.1,.2,500)\n",
        "r2=np.zeros(omegas.shape[0])\n",
        "i=0\n",
        "\n",
        "for omega_ch2 in omegas:\n",
        "  pars.set_cosmology(H0=H_0, ombh2=omega_bh2, omch2=omega_ch2, mnu=nu_mass, omk=omega_k)\n",
        "  results = camb.get_background(pars)\n",
        "  DL = results.luminosity_distance(z_data)\n",
        "  dm = 5.*np.log10(DL/(1e-5))\n",
        "  r2[i] = np.sum((dm - mag_data)**2/error_data**2)\n",
        "  i+=1\n",
        "\n"
      ],
      "execution_count": 0,
      "outputs": []
    },
    {
      "cell_type": "code",
      "metadata": {
        "id": "BV8bVq8313nA",
        "colab_type": "code",
        "colab": {}
      },
      "source": [
        "def deriv(x,y,x0,dx):\n",
        "  h = x[x0]-x[x0+dx]\n",
        "  return (y[x0-dx]-y[x0-dx])/(2.*h)\n",
        "\n",
        "def deriv2(x,y,x0,dx):\n",
        "  h = x[x0]-x[x0+dx]\n",
        "  return (y[x0-dx]-2.*y[x0]+y[x0-dx])/(h**2)\n",
        "\n",
        "minindex = np.argmin(r2)\n",
        "d2 = deriv2(omegas,r2,minindex,2)\n",
        "r2approx = r2[minindex]*np.ones(omegas.shape[0]) + 0.5*d2*(omegas-omegas[minindex])**2"
      ],
      "execution_count": 0,
      "outputs": []
    },
    {
      "cell_type": "code",
      "metadata": {
        "id": "tzm5a48QCwnd",
        "colab_type": "code",
        "outputId": "aa65b7cc-88fc-4c7a-8034-82a150479f5d",
        "colab": {
          "base_uri": "https://localhost:8080/",
          "height": 282
        }
      },
      "source": [
        "plt.plot(omegas,-r2)\n",
        "plt.plot(omegas,-r2approx)"
      ],
      "execution_count": 56,
      "outputs": [
        {
          "output_type": "execute_result",
          "data": {
            "text/plain": [
              "[<matplotlib.lines.Line2D at 0x7f393557a668>]"
            ]
          },
          "metadata": {
            "tags": []
          },
          "execution_count": 56
        },
        {
          "output_type": "display_data",
          "data": {
            "image/png": "[encoded data removed]",
            "text/plain": [
              "<Figure size 432x288 with 1 Axes>"
            ]
          },
          "metadata": {
            "tags": []
          }
        }
      ]
    },
    {
      "cell_type": "code",
      "metadata": {
        "id": "8xPznpJ8IX1G",
        "colab_type": "code",
        "outputId": "bb5a6fa8-d026-4bf6-8da7-f42d82555356",
        "colab": {
          "base_uri": "https://localhost:8080/",
          "height": 293
        }
      },
      "source": [
        "plt.plot(omegas,np.exp(-r2/2.))\n",
        "plt.plot(omegas,np.exp(-r2approx/2.))"
      ],
      "execution_count": 57,
      "outputs": [
        {
          "output_type": "execute_result",
          "data": {
            "text/plain": [
              "[<matplotlib.lines.Line2D at 0x7f3935465ef0>]"
            ]
          },
          "metadata": {
            "tags": []
          },
          "execution_count": 57
        },
        {
          "output_type": "display_data",
          "data": {
            "image/png": "[encoded data removed]",
            "text/plain": [
              "<Figure size 432x288 with 1 Axes>"
            ]
          },
          "metadata": {
            "tags": []
          }
        }
      ]
    },
    {
      "cell_type": "code",
      "metadata": {
        "id": "FcCbt4s16XN8",
        "colab_type": "code",
        "colab": {
          "base_uri": "https://localhost:8080/",
          "height": 34
        },
        "outputId": "2962facb-f239-4bbe-d255-804022ebdcc1"
      },
      "source": [
        "1./np.sqrt(0.5*d2)"
      ],
      "execution_count": 52,
      "outputs": [
        {
          "output_type": "execute_result",
          "data": {
            "text/plain": [
              "0.0068007202606017985"
            ]
          },
          "metadata": {
            "tags": []
          },
          "execution_count": 52
        }
      ]
    },
    {
      "cell_type": "code",
      "metadata": {
        "id": "U49BkfCPIeMX",
        "colab_type": "code",
        "colab": {}
      },
      "source": [
        "import scipy.optimize as optimization"
      ],
      "execution_count": 0,
      "outputs": []
    },
    {
      "cell_type": "code",
      "metadata": {
        "id": "WOKNxbvQwxKW",
        "colab_type": "code",
        "colab": {}
      },
      "source": [
        "def dm_func(zs, omega_ch2s):\n",
        "  pars.set_cosmology(H0=H_0, ombh2=omega_bh2, omch2=omega_ch2s, mnu=nu_mass, omk=omega_k)\n",
        "  results = camb.get_background(pars)\n",
        "  DL = results.luminosity_distance(zs)\n",
        "  dm = 5.*np.log10(DL/(1e-5))\n",
        "  return dm"
      ],
      "execution_count": 0,
      "outputs": []
    },
    {
      "cell_type": "code",
      "metadata": {
        "id": "ple0dGddxaWv",
        "colab_type": "code",
        "outputId": "6e7571b9-31c5-48b9-95e4-a24b3fbb02bd",
        "colab": {
          "base_uri": "https://localhost:8080/",
          "height": 357
        }
      },
      "source": [
        "dm_func(z,.120)"
      ],
      "execution_count": 11,
      "outputs": [
        {
          "output_type": "execute_result",
          "data": {
            "text/plain": [
              "array([33.2540608 , 35.27248159, 36.31797674, 37.03326665, 37.5799999 ,\n",
              "       38.02406823, 38.39890399, 38.72382511, 39.01101076, 39.26863765,\n",
              "       39.50246315, 39.71669559, 39.91450525, 40.09834058, 40.27013249,\n",
              "       40.43143101, 40.58349971, 40.72738245, 40.86395181, 40.99394482,\n",
              "       41.11798981, 41.23662697, 41.35032423, 41.45948968, 41.56448148,\n",
              "       41.66561574, 41.76317299, 41.85740332, 41.94853073, 42.03675666,\n",
              "       42.122263  , 42.20521455, 42.28576112, 42.36403936, 42.44017426,\n",
              "       42.51428047, 42.58646343, 42.65682034, 42.72544104, 42.7924087 ,\n",
              "       42.85780055, 42.92168837, 42.98413905, 43.045215  , 43.10497459,\n",
              "       43.16347246, 43.22075986, 43.27688492, 43.33189291, 43.38582647,\n",
              "       43.4387258 , 43.49062885, 43.5415715 , 43.59158772, 43.64070967,\n",
              "       43.68896784, 43.7363912 , 43.78300726, 43.82884219, 43.8739209 ,\n",
              "       43.91826712, 43.96190347, 44.00485155, 44.04713198, 44.08876447,\n",
              "       44.12976787, 44.17016021, 44.20995878, 44.24918012, 44.28784011,\n",
              "       44.32595398, 44.36353636, 44.40060129, 44.43716227, 44.4732323 ,\n",
              "       44.50882385, 44.54394897, 44.57861922, 44.61284576, 44.64663937,\n",
              "       44.6800104 , 44.71296889, 44.74552448, 44.77768651, 44.809464  ,\n",
              "       44.84086566, 44.87189992, 44.90257493, 44.93289857, 44.96287847,\n",
              "       44.99252203, 45.02183639, 45.0508285 , 45.07950508, 45.10787264,\n",
              "       45.13593751, 45.16370581, 45.1911835 , 45.21837635, 45.24528997])"
            ]
          },
          "metadata": {
            "tags": []
          },
          "execution_count": 11
        }
      ]
    },
    {
      "cell_type": "code",
      "metadata": {
        "id": "6cOHSQKfxc5r",
        "colab_type": "code",
        "outputId": "ea0fb8b5-1780-45e9-ae24-cb40bb9a9500",
        "colab": {
          "base_uri": "https://localhost:8080/",
          "height": 34
        }
      },
      "source": [
        "import scipy.optimize as optimization\n",
        "\n",
        "optimization.curve_fit(dm_func, z_data, mag_data, np.array([0.12]), error_data)"
      ],
      "execution_count": 12,
      "outputs": [
        {
          "output_type": "execute_result",
          "data": {
            "text/plain": [
              "(array([0.15732655]), array([[5.07169202e-05]]))"
            ]
          },
          "metadata": {
            "tags": []
          },
          "execution_count": 12
        }
      ]
    },
    {
      "cell_type": "code",
      "metadata": {
        "id": "pY6_43GHyCYJ",
        "colab_type": "code",
        "outputId": "15687320-9f0c-4eba-f108-4d8b8cccadfc",
        "colab": {
          "base_uri": "https://localhost:8080/",
          "height": 282
        }
      },
      "source": [
        "plt.scatter(z_data,error_data)\n",
        "plt.plot(z_data,.1*z_data+.15,'k-')"
      ],
      "execution_count": 0,
      "outputs": [
        {
          "output_type": "execute_result",
          "data": {
            "text/plain": [
              "[<matplotlib.lines.Line2D at 0x7f62eb651eb8>]"
            ]
          },
          "metadata": {
            "tags": []
          },
          "execution_count": 31
        },
        {
          "output_type": "display_data",
          "data": {
            "image/png": "[encoded data removed]",
            "text/plain": [
              "<Figure size 432x288 with 1 Axes>"
            ]
          },
          "metadata": {
            "tags": []
          }
        }
      ]
    },
    {
      "cell_type": "code",
      "metadata": {
        "id": "xBUcMSLT-0MC",
        "colab_type": "code",
        "colab": {
          "base_uri": "https://localhost:8080/",
          "height": 34
        },
        "outputId": "cfa673b6-f17f-4f23-933a-ac6302965a83"
      },
      "source": [
        "np.mean(error_data)"
      ],
      "execution_count": 13,
      "outputs": [
        {
          "output_type": "execute_result",
          "data": {
            "text/plain": [
              "0.22295466913687534"
            ]
          },
          "metadata": {
            "tags": []
          },
          "execution_count": 13
        }
      ]
    },
    {
      "cell_type": "code",
      "metadata": {
        "id": "WPz2aqt77cQY",
        "colab_type": "code",
        "colab": {
          "base_uri": "https://localhost:8080/",
          "height": 282
        },
        "outputId": "6dcf335e-c071-444b-87a5-9ed373903d96"
      },
      "source": [
        "plt.hist(z_data,30)\n",
        "plt.plot(z_data,150*np.exp(-4.*z_data))"
      ],
      "execution_count": 14,
      "outputs": [
        {
          "output_type": "execute_result",
          "data": {
            "text/plain": [
              "[<matplotlib.lines.Line2D at 0x7f3af8d99550>]"
            ]
          },
          "metadata": {
            "tags": []
          },
          "execution_count": 14
        },
        {
          "output_type": "display_data",
          "data": {
            "image/png": "[encoded data removed]",
            "text/plain": [
              "<Figure size 432x288 with 1 Axes>"
            ]
          },
          "metadata": {
            "tags": []
          }
        }
      ]
    },
    {
      "cell_type": "code",
      "metadata": {
        "id": "Q_dsODc9_iAz",
        "colab_type": "code",
        "colab": {}
      },
      "source": [
        "counts, edges = np.histogram(z_data,10)\n",
        "dz = edges[1]-edges[0]\n",
        "z_fisher = edges[0:-1] + dz"
      ],
      "execution_count": 0,
      "outputs": []
    },
    {
      "cell_type": "code",
      "metadata": {
        "id": "E0_NwXjJAlQI",
        "colab_type": "code",
        "colab": {
          "base_uri": "https://localhost:8080/",
          "height": 51
        },
        "outputId": "dbc62b0a-89a1-42ab-bd6c-c79b2176dfb6"
      },
      "source": [
        "dm_func(z_fisher, 0.15732655)"
      ],
      "execution_count": 54,
      "outputs": [
        {
          "output_type": "execute_result",
          "data": {
            "text/plain": [
              "array([39.39778705, 40.94732725, 41.91612529, 42.6270055 , 43.18925418,\n",
              "       43.65405989, 44.04983002, 44.39407791, 44.69840258, 44.97089599])"
            ]
          },
          "metadata": {
            "tags": []
          },
          "execution_count": 54
        }
      ]
    },
    {
      "cell_type": "code",
      "metadata": {
        "id": "JcTtAKRx3cGi",
        "colab_type": "code",
        "colab": {}
      },
      "source": [
        "omegabar = 0.15732655\n",
        "domega = .005\n",
        "ddm = (dm_func(z_fisher, omegabar+domega) - dm_func(z_fisher, omegabar-domega))/domega"
      ],
      "execution_count": 0,
      "outputs": []
    },
    {
      "cell_type": "code",
      "metadata": {
        "id": "-YaaMew739af",
        "colab_type": "code",
        "colab": {
          "base_uri": "https://localhost:8080/",
          "height": 34
        },
        "outputId": "da577a6e-58ee-42e9-813d-411dff2e2d10"
      },
      "source": [
        "fisherarg = counts*(ddm**2)/(np.mean(error_data))**2\n",
        "(np.sum(fisherarg))**(-.5)"
      ],
      "execution_count": 66,
      "outputs": [
        {
          "output_type": "execute_result",
          "data": {
            "text/plain": [
              "0.003227218198980218"
            ]
          },
          "metadata": {
            "tags": []
          },
          "execution_count": 66
        }
      ]
    },
    {
      "cell_type": "code",
      "metadata": {
        "id": "8PIQk9Xo4-6A",
        "colab_type": "code",
        "colab": {
          "base_uri": "https://localhost:8080/",
          "height": 282
        },
        "outputId": "ba6ca5ac-ecdc-4813-ba74-6591754ea742"
      },
      "source": [
        "plt.plot(z_fisher,fisherarg)"
      ],
      "execution_count": 67,
      "outputs": [
        {
          "output_type": "execute_result",
          "data": {
            "text/plain": [
              "[<matplotlib.lines.Line2D at 0x7f3af8682080>]"
            ]
          },
          "metadata": {
            "tags": []
          },
          "execution_count": 67
        },
        {
          "output_type": "display_data",
          "data": {
            "image/png": "[encoded data removed]",
            "text/plain": [
              "<Figure size 432x288 with 1 Axes>"
            ]
          },
          "metadata": {
            "tags": []
          }
        }
      ]
    },
    {
      "cell_type": "code",
      "metadata": {
        "id": "X2DBPQPa8x5M",
        "colab_type": "code",
        "colab": {
          "base_uri": "https://localhost:8080/",
          "height": 283
        },
        "outputId": "cc4a0789-aabb-485f-876e-4dbfc69975ba"
      },
      "source": [
        "plt.plot(z_fisher,(ddm**2)/(np.mean(error_data))**2)"
      ],
      "execution_count": 68,
      "outputs": [
        {
          "output_type": "execute_result",
          "data": {
            "text/plain": [
              "[<matplotlib.lines.Line2D at 0x7f3af85d86d8>]"
            ]
          },
          "metadata": {
            "tags": []
          },
          "execution_count": 68
        },
        {
          "output_type": "display_data",
          "data": {
            "image/png": "[encoded data removed]",
            "text/plain": [
              "<Figure size 432x288 with 1 Axes>"
            ]
          },
          "metadata": {
            "tags": []
          }
        }
      ]
    },
    {
      "cell_type": "code",
      "metadata": {
        "id": "sAyuYZD39DEV",
        "colab_type": "code",
        "colab": {}
      },
      "source": [
        ""
      ],
      "execution_count": 0,
      "outputs": []
    }
  ]
}