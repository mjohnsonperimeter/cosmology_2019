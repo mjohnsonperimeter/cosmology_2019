{
  "nbformat": 4,
  "nbformat_minor": 0,
  "metadata": {
    "colab": {
      "name": "SN_tutorial.ipynb",
      "provenance": [],
      "collapsed_sections": [],
      "authorship_tag": "ABX9TyNwyRIIUYPD9KogLg5GnPVo",
      "include_colab_link": true
    },
    "kernelspec": {
      "name": "python3",
      "display_name": "Python 3"
    }
  },
  "cells": [
    {
      "cell_type": "markdown",
      "metadata": {
        "id": "view-in-github",
        "colab_type": "text"
      },
      "source": [
        "<a href=\"https://colab.research.google.com/github/mjohnsonperimeter/cosmology_2019/blob/master/SN_tutorial.ipynb\" target=\"_parent\"><img src=\"https://colab.research.google.com/assets/colab-badge.svg\" alt=\"Open In Colab\"/></a>"
      ]
    },
    {
      "cell_type": "code",
      "metadata": {
        "id": "mhXwvhMequyn",
        "colab_type": "code",
        "colab": {
          "base_uri": "https://localhost:8080/",
          "height": 380
        },
        "outputId": "4e11cb89-f847-4354-82a7-dd22202b29bb"
      },
      "source": [
        "!pip install camb"
      ],
      "execution_count": 2,
      "outputs": [
        {
          "output_type": "stream",
          "text": [
            "Collecting camb\n",
            "\u001b[?25l  Downloading https://files.pythonhosted.org/packages/92/07/8e9346a53d77e4fa6663da640760a97202520a35c3fae0ae82d43746dead/camb-1.1.0.tar.gz (32.0MB)\n",
            "\u001b[K     |████████████████████████████████| 32.0MB 124kB/s \n",
            "\u001b[?25hRequirement already satisfied: scipy>=1.0 in /usr/local/lib/python3.6/dist-packages (from camb) (1.4.1)\n",
            "Requirement already satisfied: six in /usr/local/lib/python3.6/dist-packages (from camb) (1.12.0)\n",
            "Requirement already satisfied: sympy>=1.0 in /usr/local/lib/python3.6/dist-packages (from camb) (1.1.1)\n",
            "Requirement already satisfied: numpy>=1.13.3 in /usr/local/lib/python3.6/dist-packages (from scipy>=1.0->camb) (1.17.5)\n",
            "Requirement already satisfied: mpmath>=0.19 in /usr/local/lib/python3.6/dist-packages (from sympy>=1.0->camb) (1.1.0)\n",
            "Building wheels for collected packages: camb\n",
            "  Building wheel for camb (setup.py) ... \u001b[?25l\u001b[?25hdone\n",
            "  Created wheel for camb: filename=camb-1.1.0-cp36-none-any.whl size=939625 sha256=12a9765f93c341602f4047d06a1d872a0a9d298a8eb1ab0793a7f5d4a27fef83\n",
            "  Stored in directory: /root/.cache/pip/wheels/52/d0/76/aea0e7192efbc373eaec579a4d18909518a90a6cc10f07625b\n",
            "Successfully built camb\n",
            "Installing collected packages: camb\n",
            "Successfully installed camb-1.1.0\n"
          ],
          "name": "stdout"
        }
      ]
    },
    {
      "cell_type": "code",
      "metadata": {
        "id": "qIjapeAXtnLn",
        "colab_type": "code",
        "outputId": "92d9696d-175b-4923-c06a-750d38b6d0ca",
        "colab": {
          "base_uri": "https://localhost:8080/",
          "height": 34
        }
      },
      "source": [
        "import urllib\n",
        "import numpy as np\n",
        "import matplotlib\n",
        "from matplotlib import pyplot as plt\n",
        "import sys, platform, os\n",
        "import camb\n",
        "\n",
        "urllib.request.urlretrieve(url = \"https://www.dropbox.com/s/js3vsjtbeirnd7y/SCPUnion2.1_mu_vs_z.txt?dl=1\",filename = \"SCPUnion2.1_mu_vs_z.txt\")"
      ],
      "execution_count": 3,
      "outputs": [
        {
          "output_type": "execute_result",
          "data": {
            "text/plain": [
              "('SCPUnion2.1_mu_vs_z.txt', <http.client.HTTPMessage at 0x7f62f1e53940>)"
            ]
          },
          "metadata": {
            "tags": []
          },
          "execution_count": 3
        }
      ]
    },
    {
      "cell_type": "code",
      "metadata": {
        "id": "18dkNeTotruj",
        "colab_type": "code",
        "colab": {}
      },
      "source": [
        "z_data=np.loadtxt(fname = 'SCPUnion2.1_mu_vs_z.txt',usecols=(1))\n",
        "mag_data=np.loadtxt(fname = 'SCPUnion2.1_mu_vs_z.txt',usecols=(2))\n",
        "error_data=np.loadtxt(fname = 'SCPUnion2.1_mu_vs_z.txt',usecols=(3))"
      ],
      "execution_count": 0,
      "outputs": []
    },
    {
      "cell_type": "code",
      "metadata": {
        "id": "EMZT1H87sDhq",
        "colab_type": "code",
        "colab": {}
      },
      "source": [
        "# Hubble constant in km/s/Mpc\n",
        "H_0 = 67.5\n",
        "# baryon and cdm fraction multiplied by h^2\n",
        "omega_bh2 = 0.0224\n",
        "omega_ch2 = 0.120\n",
        "# Curvature\n",
        "omega_k = 0.0\n",
        "# Neutrino mass\n",
        "nu_mass = 0.06\n",
        "\n",
        "# Set within CAMB\n",
        "pars = camb.CAMBparams()\n",
        "pars.set_cosmology(H0=H_0, ombh2=omega_bh2, omch2=omega_ch2, mnu=nu_mass, omk=omega_k)\n",
        "results = camb.get_background(pars)\n",
        "\n",
        "z = np.linspace(0.01,1.5,100)\n",
        "DL = results.luminosity_distance(z)\n",
        "DL_lowz = ((2.99e5)/H_0)*z\n",
        "dm = 5.*np.log10(DL/(1e-5))\n",
        "dm_lowz = 5.*np.log10(DL_lowz/(1e-5))"
      ],
      "execution_count": 0,
      "outputs": []
    },
    {
      "cell_type": "code",
      "metadata": {
        "id": "fytCIvtbuHDt",
        "colab_type": "code",
        "outputId": "909cb087-cef4-40f5-ff68-280f5e3cfd45",
        "colab": {
          "base_uri": "https://localhost:8080/",
          "height": 282
        }
      },
      "source": [
        "plt.errorbar(z_data,mag_data,error_data,fmt='o',ms=.25)\n",
        "plt.plot(z,dm)\n",
        "plt.plot(z,dm_lowz)"
      ],
      "execution_count": 6,
      "outputs": [
        {
          "output_type": "execute_result",
          "data": {
            "text/plain": [
              "[<matplotlib.lines.Line2D at 0x7f62f112a358>]"
            ]
          },
          "metadata": {
            "tags": []
          },
          "execution_count": 6
        },
        {
          "output_type": "display_data",
          "data": {
            "image/png": "[encoded data removed]",
            "text/plain": [
              "<Figure size 432x288 with 1 Axes>"
            ]
          },
          "metadata": {
            "tags": []
          }
        }
      ]
    },
    {
      "cell_type": "code",
      "metadata": {
        "id": "0xHSRH3Nv7yq",
        "colab_type": "code",
        "colab": {
          "base_uri": "https://localhost:8080/",
          "height": 282
        },
        "outputId": "b092e498-c3ca-46c9-d550-de06ecc63163"
      },
      "source": [
        "# Hubble constant in km/s/Mpc\n",
        "H_0 = 67.5\n",
        "# baryon and cdm fraction multiplied by h^2\n",
        "omega_bh2 = 0.0224\n",
        "omega_ch2 = 0.120\n",
        "# Curvature\n",
        "omega_k = 0.0\n",
        "# Neutrino mass\n",
        "nu_mass = 0.06\n",
        "\n",
        "# Set within CAMB\n",
        "\n",
        "DL_lowz = ((2.99e5)/H_0)*z\n",
        "dm_lowz = 5.*np.log10(DL_lowz/(1e-5))\n",
        "\n",
        "pars = camb.CAMBparams()\n",
        "z = np.linspace(0.01,1.5,100)\n",
        "omegas = np.linspace(0,.9,4)\n",
        "\n",
        "for omega_ch2 in omegas:\n",
        "\n",
        "  pars.set_cosmology(H0=H_0, ombh2=omega_bh2, omch2=omega_ch2, mnu=nu_mass, omk=omega_k)\n",
        "  results = camb.get_background(pars)\n",
        "  DL = results.luminosity_distance(z)\n",
        "  dm = 5.*np.log10(DL/(1e-5))\n",
        "  plt.plot(z,dm)\n",
        "\n",
        "plt.plot(z,dm_lowz,'k--')\n",
        "plt.errorbar(z_data,mag_data,error_data,fmt='o',ms=.25)"
      ],
      "execution_count": 30,
      "outputs": [
        {
          "output_type": "execute_result",
          "data": {
            "text/plain": [
              "<ErrorbarContainer object of 3 artists>"
            ]
          },
          "metadata": {
            "tags": []
          },
          "execution_count": 30
        },
        {
          "output_type": "display_data",
          "data": {
            "image/png": "[encoded data removed]",
            "text/plain": [
              "<Figure size 432x288 with 1 Axes>"
            ]
          },
          "metadata": {
            "tags": []
          }
        }
      ]
    },
    {
      "cell_type": "code",
      "metadata": {
        "id": "QYD-WQN8y-Q-",
        "colab_type": "code",
        "colab": {}
      },
      "source": [
        "# Hubble constant in km/s/Mpc\n",
        "H_0 = 67.5\n",
        "# baryon and cdm fraction multiplied by h^2\n",
        "omega_bh2 = 0.0224\n",
        "omega_ch2 = 0.120\n",
        "# Curvature\n",
        "omega_k = 0.0\n",
        "# Neutrino mass\n",
        "nu_mass = 0.06\n",
        "\n",
        "omega_matter = results.get_Omega('cdm', 0.0001)+results.get_Omega('baryon', 0.0001)\n",
        "omega_rad = results.get_Omega('photon', 0.0001)+3.*results.get_Omega('nu', 0.0001)\n",
        "omega_DE = results.get_Omega('de', 0.0001)\n",
        "\n",
        "q0 = (omega_rad + 0.5*omega_matter - omega_DE)\n",
        "\n",
        "# Set within CAMB\n",
        "pars = camb.CAMBparams()\n",
        "pars.set_cosmology(H0=H_0, ombh2=omega_bh2, omch2=omega_ch2, mnu=nu_mass, omk=omega_k)\n",
        "results = camb.get_background(pars)\n",
        "\n",
        "z = np.linspace(0.01,1.5,100)\n",
        "DL = results.luminosity_distance(z)\n",
        "DL_lowz = ((2.99e5)/H_0)*z*(1+(1-q0)*z*0.5)\n",
        "dm = 5.*np.log10(DL/(1e-5))\n",
        "dm_lowz = 5.*np.log10(DL_lowz/(1e-5))"
      ],
      "execution_count": 0,
      "outputs": []
    },
    {
      "cell_type": "code",
      "metadata": {
        "id": "EnYwRCKB6vQs",
        "colab_type": "code",
        "colab": {
          "base_uri": "https://localhost:8080/",
          "height": 282
        },
        "outputId": "6ea94acf-219e-4d12-a374-10806cf8ed1f"
      },
      "source": [
        "plt.errorbar(z_data,mag_data,error_data,fmt='o',ms=.25)\n",
        "plt.plot(z,dm,'r')\n",
        "plt.plot(z,dm_lowz,'b')"
      ],
      "execution_count": 61,
      "outputs": [
        {
          "output_type": "execute_result",
          "data": {
            "text/plain": [
              "[<matplotlib.lines.Line2D at 0x7f50e232ffd0>]"
            ]
          },
          "metadata": {
            "tags": []
          },
          "execution_count": 61
        },
        {
          "output_type": "display_data",
          "data": {
            "image/png": "[encoded data removed]",
            "text/plain": [
              "<Figure size 432x288 with 1 Axes>"
            ]
          },
          "metadata": {
            "tags": []
          }
        }
      ]
    },
    {
      "cell_type": "code",
      "metadata": {
        "id": "Uj8x6xqu6ync",
        "colab_type": "code",
        "colab": {
          "base_uri": "https://localhost:8080/",
          "height": 34
        },
        "outputId": "cb34af00-10ed-488b-ddd7-9906f4da7429"
      },
      "source": [
        "print(q0)"
      ],
      "execution_count": 62,
      "outputs": [
        {
          "output_type": "stream",
          "text": [
            "-0.5252983952175369\n"
          ],
          "name": "stdout"
        }
      ]
    },
    {
      "cell_type": "code",
      "metadata": {
        "id": "MbNwkyZP67dP",
        "colab_type": "code",
        "colab": {}
      },
      "source": [
        "# Hubble constant in km/s/Mpc\n",
        "H_0 = 67.5\n",
        "# baryon and cdm fraction multiplied by h^2\n",
        "omega_bh2 = 0.0224\n",
        "omega_ch2 = 0.120\n",
        "# Curvature\n",
        "omega_k = 0.0\n",
        "# Neutrino mass\n",
        "nu_mass = 0.06\n",
        "\n",
        "pars = camb.CAMBparams()\n",
        "omegas = np.linspace(0,.4,500)\n",
        "r2=np.zeros(omegas.shape[0])\n",
        "i=0\n",
        "\n",
        "for omega_ch2 in omegas:\n",
        "  pars.set_cosmology(H0=H_0, ombh2=omega_bh2, omch2=omega_ch2, mnu=nu_mass, omk=omega_k)\n",
        "  results = camb.get_background(pars)\n",
        "  DL = results.luminosity_distance(z_data)\n",
        "  dm = 5.*np.log10(DL/(1e-5))\n",
        "  r2[i] = np.sum((dm - mag_data)**2/error_data**2)\n",
        "  i+=1\n",
        "\n"
      ],
      "execution_count": 0,
      "outputs": []
    },
    {
      "cell_type": "code",
      "metadata": {
        "id": "tzm5a48QCwnd",
        "colab_type": "code",
        "colab": {
          "base_uri": "https://localhost:8080/",
          "height": 282
        },
        "outputId": "a5bf36d8-74ef-4af0-c796-bd258046a98d"
      },
      "source": [
        "plt.plot(omegas,-r2)"
      ],
      "execution_count": 23,
      "outputs": [
        {
          "output_type": "execute_result",
          "data": {
            "text/plain": [
              "[<matplotlib.lines.Line2D at 0x7f62ee43b668>]"
            ]
          },
          "metadata": {
            "tags": []
          },
          "execution_count": 23
        },
        {
          "output_type": "display_data",
          "data": {
            "image/png": "[encoded data removed]",
            "text/plain": [
              "<Figure size 432x288 with 1 Axes>"
            ]
          },
          "metadata": {
            "tags": []
          }
        }
      ]
    },
    {
      "cell_type": "code",
      "metadata": {
        "id": "8xPznpJ8IX1G",
        "colab_type": "code",
        "colab": {
          "base_uri": "https://localhost:8080/",
          "height": 34
        },
        "outputId": "cf318ab1-40fd-42e3-adf1-de336099afa0"
      },
      "source": [
        "minindex=np.argmin(r2)\n",
        "omegas[minindex]"
      ],
      "execution_count": 9,
      "outputs": [
        {
          "output_type": "execute_result",
          "data": {
            "text/plain": [
              "0.15711422845691383"
            ]
          },
          "metadata": {
            "tags": []
          },
          "execution_count": 9
        }
      ]
    },
    {
      "cell_type": "code",
      "metadata": {
        "id": "U49BkfCPIeMX",
        "colab_type": "code",
        "colab": {}
      },
      "source": [
        "import scipy.optimize as optimization"
      ],
      "execution_count": 0,
      "outputs": []
    },
    {
      "cell_type": "code",
      "metadata": {
        "id": "WOKNxbvQwxKW",
        "colab_type": "code",
        "colab": {}
      },
      "source": [
        "def dm_func(zs, omega_ch2s):\n",
        "  pars.set_cosmology(H0=H_0, ombh2=omega_bh2, omch2=omega_ch2s, mnu=nu_mass, omk=omega_k)\n",
        "  results = camb.get_background(pars)\n",
        "  DL = results.luminosity_distance(zs)\n",
        "  dm = 5.*np.log10(DL/(1e-5))\n",
        "  return dm"
      ],
      "execution_count": 0,
      "outputs": []
    },
    {
      "cell_type": "code",
      "metadata": {
        "id": "ple0dGddxaWv",
        "colab_type": "code",
        "colab": {
          "base_uri": "https://localhost:8080/",
          "height": 357
        },
        "outputId": "b5d511e4-ffac-4b6f-edc4-166e1e80beaf"
      },
      "source": [
        "dm_func(z,.120)"
      ],
      "execution_count": 15,
      "outputs": [
        {
          "output_type": "execute_result",
          "data": {
            "text/plain": [
              "array([33.2540608 , 35.27248159, 36.31797674, 37.03326665, 37.5799999 ,\n",
              "       38.02406823, 38.39890399, 38.72382511, 39.01101076, 39.26863765,\n",
              "       39.50246315, 39.71669559, 39.91450525, 40.09834058, 40.27013249,\n",
              "       40.43143101, 40.58349971, 40.72738245, 40.86395181, 40.99394482,\n",
              "       41.11798981, 41.23662697, 41.35032423, 41.45948968, 41.56448148,\n",
              "       41.66561574, 41.76317299, 41.85740332, 41.94853073, 42.03675666,\n",
              "       42.122263  , 42.20521455, 42.28576112, 42.36403936, 42.44017426,\n",
              "       42.51428047, 42.58646343, 42.65682034, 42.72544104, 42.7924087 ,\n",
              "       42.85780055, 42.92168837, 42.98413905, 43.045215  , 43.10497459,\n",
              "       43.16347246, 43.22075986, 43.27688492, 43.33189291, 43.38582647,\n",
              "       43.4387258 , 43.49062885, 43.5415715 , 43.59158772, 43.64070967,\n",
              "       43.68896784, 43.7363912 , 43.78300726, 43.82884219, 43.8739209 ,\n",
              "       43.91826712, 43.96190347, 44.00485155, 44.04713198, 44.08876447,\n",
              "       44.12976787, 44.17016021, 44.20995878, 44.24918012, 44.28784011,\n",
              "       44.32595398, 44.36353636, 44.40060129, 44.43716227, 44.4732323 ,\n",
              "       44.50882385, 44.54394897, 44.57861922, 44.61284576, 44.64663937,\n",
              "       44.6800104 , 44.71296889, 44.74552448, 44.77768651, 44.809464  ,\n",
              "       44.84086566, 44.87189992, 44.90257493, 44.93289857, 44.96287847,\n",
              "       44.99252203, 45.02183639, 45.0508285 , 45.07950508, 45.10787264,\n",
              "       45.13593751, 45.16370581, 45.1911835 , 45.21837635, 45.24528997])"
            ]
          },
          "metadata": {
            "tags": []
          },
          "execution_count": 15
        }
      ]
    },
    {
      "cell_type": "code",
      "metadata": {
        "id": "6cOHSQKfxc5r",
        "colab_type": "code",
        "colab": {
          "base_uri": "https://localhost:8080/",
          "height": 34
        },
        "outputId": "8e294c57-5a07-49a9-9f2a-cce8325a3a8d"
      },
      "source": [
        "import scipy.optimize as optimization\n",
        "\n",
        "optimization.curve_fit(dm_func, z_data, mag_data, np.array([0.12]), error_data)"
      ],
      "execution_count": 21,
      "outputs": [
        {
          "output_type": "execute_result",
          "data": {
            "text/plain": [
              "(array([0.15732655]), array([[5.07169202e-05]]))"
            ]
          },
          "metadata": {
            "tags": []
          },
          "execution_count": 21
        }
      ]
    },
    {
      "cell_type": "code",
      "metadata": {
        "id": "pY6_43GHyCYJ",
        "colab_type": "code",
        "colab": {
          "base_uri": "https://localhost:8080/",
          "height": 282
        },
        "outputId": "15687320-9f0c-4eba-f108-4d8b8cccadfc"
      },
      "source": [
        "plt.scatter(z_data,error_data)\n",
        "plt.plot(z_data,.1*z_data+.15,'k-')"
      ],
      "execution_count": 31,
      "outputs": [
        {
          "output_type": "execute_result",
          "data": {
            "text/plain": [
              "[<matplotlib.lines.Line2D at 0x7f62eb651eb8>]"
            ]
          },
          "metadata": {
            "tags": []
          },
          "execution_count": 31
        },
        {
          "output_type": "display_data",
          "data": {
            "image/png": "[encoded data removed]",
            "text/plain": [
              "<Figure size 432x288 with 1 Axes>"
            ]
          },
          "metadata": {
            "tags": []
          }
        }
      ]
    },
    {
      "cell_type": "code",
      "metadata": {
        "id": "xBUcMSLT-0MC",
        "colab_type": "code",
        "colab": {}
      },
      "source": [
        ""
      ],
      "execution_count": 0,
      "outputs": []
    }
  ]
}