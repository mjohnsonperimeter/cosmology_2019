{
  "nbformat": 4,
  "nbformat_minor": 0,
  "metadata": {
    "colab": {
      "name": "background_cosmology.ipynb",
      "provenance": [],
      "collapsed_sections": [],
      "authorship_tag": "ABX9TyOBbxxcCS+sMvya1IANVyaK",
      "include_colab_link": true
    },
    "kernelspec": {
      "name": "python3",
      "display_name": "Python 3"
    }
  },
  "cells": [
    {
      "cell_type": "markdown",
      "metadata": {
        "id": "view-in-github",
        "colab_type": "text"
      },
      "source": [
        "<a href=\"https://colab.research.google.com/github/mjohnsonperimeter/cosmology_2019/blob/master/background_cosmology.ipynb\" target=\"_parent\"><img src=\"https://colab.research.google.com/assets/colab-badge.svg\" alt=\"Open In Colab\"/></a>"
      ]
    },
    {
      "cell_type": "code",
      "metadata": {
        "id": "Afd_GXvsMSn0",
        "colab_type": "code",
        "colab": {
          "base_uri": "https://localhost:8080/",
          "height": 361
        },
        "outputId": "920dc625-b43b-4196-8113-36ad5a418b2a"
      },
      "source": [
        "!pip install camb"
      ],
      "execution_count": 1,
      "outputs": [
        {
          "output_type": "stream",
          "text": [
            "Collecting camb\n",
            "\u001b[?25l  Downloading https://files.pythonhosted.org/packages/92/07/8e9346a53d77e4fa6663da640760a97202520a35c3fae0ae82d43746dead/camb-1.1.0.tar.gz (32.0MB)\n",
            "\u001b[K     |████████████████████████████████| 32.0MB 138kB/s \n",
            "\u001b[?25hRequirement already satisfied: scipy>=1.0 in /usr/local/lib/python3.6/dist-packages (from camb) (1.4.1)\n",
            "Requirement already satisfied: six in /usr/local/lib/python3.6/dist-packages (from camb) (1.12.0)\n",
            "Requirement already satisfied: sympy>=1.0 in /usr/local/lib/python3.6/dist-packages (from camb) (1.1.1)\n",
            "Requirement already satisfied: numpy>=1.13.3 in /usr/local/lib/python3.6/dist-packages (from scipy>=1.0->camb) (1.17.5)\n",
            "Requirement already satisfied: mpmath>=0.19 in /usr/local/lib/python3.6/dist-packages (from sympy>=1.0->camb) (1.1.0)\n",
            "Building wheels for collected packages: camb\n",
            "  Building wheel for camb (setup.py) ... \u001b[?25l\u001b[?25hdone\n",
            "  Created wheel for camb: filename=camb-1.1.0-cp36-none-any.whl size=912758 sha256=4045cd9db1ece8c9f23c15e5aef524a1cd2fd1aa37a051d3944b6ede3555ef11\n",
            "  Stored in directory: /root/.cache/pip/wheels/52/d0/76/aea0e7192efbc373eaec579a4d18909518a90a6cc10f07625b\n",
            "Successfully built camb\n",
            "Installing collected packages: camb\n",
            "Successfully installed camb-1.1.0\n"
          ],
          "name": "stdout"
        }
      ]
    },
    {
      "cell_type": "code",
      "metadata": {
        "id": "fxvHC-qVMvWt",
        "colab_type": "code",
        "colab": {}
      },
      "source": [
        "import sys, platform, os\n",
        "import matplotlib\n",
        "from matplotlib import pyplot as plt\n",
        "import numpy as np\n",
        "import camb"
      ],
      "execution_count": 0,
      "outputs": []
    },
    {
      "cell_type": "markdown",
      "metadata": {
        "id": "KGRjmAuNNTck",
        "colab_type": "text"
      },
      "source": [
        "**Specify the cosmology**"
      ]
    },
    {
      "cell_type": "code",
      "metadata": {
        "id": "8DuK9yo3M7Zo",
        "colab_type": "code",
        "colab": {
          "base_uri": "https://localhost:8080/",
          "height": 85
        },
        "outputId": "3c0103e6-b6b1-4c0a-a2cb-228c7790a20b"
      },
      "source": [
        "# Hubble constant in km/s/Mpc\n",
        "H_0 = 67.5\n",
        "# baryon and cdm fraction multiplied by h^2\n",
        "omega_bh2 = 0.0224\n",
        "omega_ch2 = 0.120\n",
        "# Curvature\n",
        "omega_k = 0.0\n",
        "# Neutrino mass\n",
        "nu_mass = 0.06\n",
        "\n",
        "# Set within CAMB\n",
        "pars = camb.CAMBparams()\n",
        "pars.set_cosmology(H0=H_0, ombh2=omega_bh2, omch2=omega_ch2, mnu=nu_mass, omk=omega_k)\n",
        "results = camb.get_background(pars)\n",
        "print(\"The age of the Universe (in Gyr) is:\") \n",
        "print(camb.get_age(pars))\n",
        "print(\"The comoving radius of the observable Universe (in Mpc) is:\")\n",
        "print(results.comoving_radial_distance(10000))\n"
      ],
      "execution_count": 127,
      "outputs": [
        {
          "output_type": "stream",
          "text": [
            "The age of the Universe (in Gyr) is:\n",
            "13.783830906994758\n",
            "The comoving radius of the observable Universe (in Mpc) is:\n",
            "14103.519050987794\n"
          ],
          "name": "stdout"
        }
      ]
    },
    {
      "cell_type": "markdown",
      "metadata": {
        "id": "SlZAqcPni_Pn",
        "colab_type": "text"
      },
      "source": [
        "**Calculate distances as a function of redshift**"
      ]
    },
    {
      "cell_type": "code",
      "metadata": {
        "id": "yVvYhdRujFkx",
        "colab_type": "code",
        "colab": {
          "base_uri": "https://localhost:8080/",
          "height": 312
        },
        "outputId": "56af3f87-e2cc-4c34-d7ad-935dbf4a8026"
      },
      "source": [
        "z = np.linspace(0,6,100)\n",
        "DA = results.angular_diameter_distance(z)\n",
        "DC = results.comoving_radial_distance(z)\n",
        "DL = results.luminosity_distance(z)\n",
        "plt.semilogy(z, DA,'r')\n",
        "plt.semilogy(z, DC, 'b')\n",
        "plt.semilogy(z, DL, 'g')\n",
        "plt.xlabel('$z$')\n",
        "plt.ylabel(r'$D /\\rm{Mpc}$')\n",
        "plt.title('Distances')"
      ],
      "execution_count": 128,
      "outputs": [
        {
          "output_type": "execute_result",
          "data": {
            "text/plain": [
              "Text(0.5, 1.0, 'Distances')"
            ]
          },
          "metadata": {
            "tags": []
          },
          "execution_count": 128
        },
        {
          "output_type": "display_data",
          "data": {
            "image/png": "[encoded data removed]",
            "text/plain": [
              "<Figure size 432x288 with 1 Axes>"
            ]
          },
          "metadata": {
            "tags": []
          }
        }
      ]
    },
    {
      "cell_type": "markdown",
      "metadata": {
        "id": "rTv1VKEvnbQ6",
        "colab_type": "text"
      },
      "source": [
        "**Density fractions as a function of redshift, $\\Omega_i (z)$.**"
      ]
    },
    {
      "cell_type": "code",
      "metadata": {
        "id": "6MDcOc7QjGcJ",
        "colab_type": "code",
        "colab": {
          "base_uri": "https://localhost:8080/",
          "height": 286
        },
        "outputId": "d3bd77d0-7f67-4132-c113-857083f43174"
      },
      "source": [
        "z = np.logspace(-2,6,5000)\n",
        "omega_matter = results.get_Omega('cdm', z)+results.get_Omega('baryon', z)\n",
        "omega_rad = results.get_Omega('photon', z)+3.*results.get_Omega('nu', z)\n",
        "omega_DE = results.get_Omega('de', z)\n",
        "plt.semilogx(z, omega_matter,'r')\n",
        "plt.semilogx(z, omega_rad,'b')\n",
        "plt.semilogx(z, omega_DE,'g')"
      ],
      "execution_count": 129,
      "outputs": [
        {
          "output_type": "execute_result",
          "data": {
            "text/plain": [
              "[<matplotlib.lines.Line2D at 0x7f35d80af080>]"
            ]
          },
          "metadata": {
            "tags": []
          },
          "execution_count": 129
        },
        {
          "output_type": "display_data",
          "data": {
            "image/png": "[encoded data removed]",
            "text/plain": [
              "<Figure size 432x288 with 1 Axes>"
            ]
          },
          "metadata": {
            "tags": []
          }
        }
      ]
    },
    {
      "cell_type": "markdown",
      "metadata": {
        "id": "psNxH9ks015T",
        "colab_type": "text"
      },
      "source": [
        "**Compare the evolution of photons and neutrinos**"
      ]
    },
    {
      "cell_type": "code",
      "metadata": {
        "id": "WvxwQJk8oRoR",
        "colab_type": "code",
        "colab": {
          "base_uri": "https://localhost:8080/",
          "height": 286
        },
        "outputId": "803e92bd-ccf1-452b-bc39-9fd6083955c4"
      },
      "source": [
        "z = np.logspace(-2,6,5000)\n",
        "omega_gamma = results.get_Omega('photon', z)\n",
        "omega_neutrino = 3.*results.get_Omega('nu', z)\n",
        "plt.loglog(z, omega_gamma,'r')\n",
        "plt.loglog(z, omega_neutrino,'b')"
      ],
      "execution_count": 130,
      "outputs": [
        {
          "output_type": "execute_result",
          "data": {
            "text/plain": [
              "[<matplotlib.lines.Line2D at 0x7f35d7fd2a90>]"
            ]
          },
          "metadata": {
            "tags": []
          },
          "execution_count": 130
        },
        {
          "output_type": "display_data",
          "data": {
            "image/png": "[encoded data removed]",
            "text/plain": [
              "<Figure size 432x288 with 1 Axes>"
            ]
          },
          "metadata": {
            "tags": []
          }
        }
      ]
    },
    {
      "cell_type": "code",
      "metadata": {
        "id": "6BKDgHVnxynx",
        "colab_type": "code",
        "colab": {
          "base_uri": "https://localhost:8080/",
          "height": 238
        },
        "outputId": "1744edcb-a28b-4873-9e54-1ea524862956"
      },
      "source": [
        "results.get_derived_params()"
      ],
      "execution_count": 94,
      "outputs": [
        {
          "output_type": "execute_result",
          "data": {
            "text/plain": [
              "{'DAstar': 13.86602036386725,\n",
              " 'age': 13.783830906994758,\n",
              " 'kd': 0.14092281604860044,\n",
              " 'keq': 0.010386059419587947,\n",
              " 'rdrag': 147.06067922883494,\n",
              " 'rstar': 144.41117257781698,\n",
              " 'thetad': 0.16077433649475187,\n",
              " 'thetaeq': 0.8135311484213795,\n",
              " 'thetarseq': 0.4495078339106119,\n",
              " 'thetastar': 1.0414752667905396,\n",
              " 'zdrag': 1060.005648472675,\n",
              " 'zeq': 3402.9222390013024,\n",
              " 'zstar': 1089.8787915970674}"
            ]
          },
          "metadata": {
            "tags": []
          },
          "execution_count": 94
        }
      ]
    },
    {
      "cell_type": "code",
      "metadata": {
        "id": "5u6I4UWLx1ax",
        "colab_type": "code",
        "colab": {}
      },
      "source": [
        ""
      ],
      "execution_count": 0,
      "outputs": []
    }
  ]
}