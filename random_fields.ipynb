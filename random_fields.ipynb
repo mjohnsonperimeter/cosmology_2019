{
  "nbformat": 4,
  "nbformat_minor": 0,
  "metadata": {
    "colab": {
      "name": "Untitled3.ipynb",
      "provenance": [],
      "authorship_tag": "ABX9TyMA1uiK7bqykv6Wi/BGJhMu",
      "include_colab_link": true
    },
    "kernelspec": {
      "name": "python3",
      "display_name": "Python 3"
    }
  },
  "cells": [
    {
      "cell_type": "markdown",
      "metadata": {
        "id": "view-in-github",
        "colab_type": "text"
      },
      "source": [
        "<a href=\"https://colab.research.google.com/github/mjohnsonperimeter/cosmology_2019/blob/master/random_fields.ipynb\" target=\"_parent\"><img src=\"https://colab.research.google.com/assets/colab-badge.svg\" alt=\"Open In Colab\"/></a>"
      ]
    },
    {
      "cell_type": "code",
      "metadata": {
        "id": "19yuitcTK9Xo",
        "colab_type": "code",
        "colab": {}
      },
      "source": [
        "import numpy as np\n",
        "import matplotlib\n",
        "from matplotlib import pyplot as plt"
      ],
      "execution_count": 0,
      "outputs": []
    },
    {
      "cell_type": "code",
      "metadata": {
        "id": "vPTY4hZjN2WZ",
        "colab_type": "code",
        "colab": {}
      },
      "source": [
        "L = 1\n",
        "N = 100000\n",
        "dx = L/N\n",
        "\n",
        "x = np.linspace(0,L,N)\n",
        "\n",
        "freq = 10.\n",
        "\n",
        "p_data = np.random.randn(N)\n",
        "p_sigma = np.var(p_data)\n",
        "\n",
        "f_data = np.fft.rfft(p_data)\n",
        "f = np.fft.rfftfreq(p_data.size,dx)\n",
        "k=2.*np.pi*f\n",
        "f_sigma = \n",
        "\n",
        "power=f_data*np.conj(f_data)"
      ],
      "execution_count": 0,
      "outputs": []
    },
    {
      "cell_type": "code",
      "metadata": {
        "id": "_6Byd59LOASA",
        "colab_type": "code",
        "colab": {
          "base_uri": "https://localhost:8080/",
          "height": 356
        },
        "outputId": "2af97415-b4fb-40a1-e3b7-a4e07adc1038"
      },
      "source": [
        "plt.plot(k,power)"
      ],
      "execution_count": 97,
      "outputs": [
        {
          "output_type": "stream",
          "text": [
            "/usr/local/lib/python3.6/dist-packages/numpy/core/_asarray.py:85: ComplexWarning: Casting complex values to real discards the imaginary part\n",
            "  return array(a, dtype, copy=False, order=order)\n"
          ],
          "name": "stderr"
        },
        {
          "output_type": "execute_result",
          "data": {
            "text/plain": [
              "[<matplotlib.lines.Line2D at 0x7f0d8edba9b0>]"
            ]
          },
          "metadata": {
            "tags": []
          },
          "execution_count": 97
        },
        {
          "output_type": "display_data",
          "data": {
            "image/png": "[encoded data removed]",
            "text/plain": [
              "<Figure size 432x288 with 1 Axes>"
            ]
          },
          "metadata": {
            "tags": []
          }
        }
      ]
    },
    {
      "cell_type": "code",
      "metadata": {
        "id": "iu-K3cwgOFf6",
        "colab_type": "code",
        "colab": {
          "base_uri": "https://localhost:8080/",
          "height": 282
        },
        "outputId": "4527472a-795e-475e-b6c2-13cffe23e51b"
      },
      "source": [
        "count, bins, ignored = plt.hist(p_data,50,density=True)\n",
        "plt.plot(bins, 1/(p_sigma * np.sqrt(2 * np.pi))*np.exp( - (bins)**2 / (2 * p_sigma**2) ),linewidth=2, color='r')"
      ],
      "execution_count": 98,
      "outputs": [
        {
          "output_type": "execute_result",
          "data": {
            "text/plain": [
              "[<matplotlib.lines.Line2D at 0x7f0d8ed7da58>]"
            ]
          },
          "metadata": {
            "tags": []
          },
          "execution_count": 98
        },
        {
          "output_type": "display_data",
          "data": {
            "image/png": "[encoded data removed]",
            "text/plain": [
              "<Figure size 432x288 with 1 Axes>"
            ]
          },
          "metadata": {
            "tags": []
          }
        }
      ]
    },
    {
      "cell_type": "code",
      "metadata": {
        "id": "A4snljRaPfnV",
        "colab_type": "code",
        "colab": {
          "base_uri": "https://localhost:8080/",
          "height": 658
        },
        "outputId": "0e713f68-639b-483d-e03d-e6d27fa12805"
      },
      "source": [
        "count, bins, ignored = plt.hist(f_data.real,50)\n",
        "plt.plot(bins, 1/(p_sigma * np.sqrt(2 * np.pi))*np.exp( - (bins)**2 / (2 * p_sigma**2) ),linewidth=2, color='r')"
      ],
      "execution_count": 91,
      "outputs": [
        {
          "output_type": "execute_result",
          "data": {
            "text/plain": [
              "(array([1.000e+00, 0.000e+00, 1.000e+00, 1.000e+00, 3.000e+00, 5.000e+00,\n",
              "        2.100e+01, 2.100e+01, 3.900e+01, 5.700e+01, 8.800e+01, 1.510e+02,\n",
              "        1.930e+02, 2.830e+02, 4.070e+02, 5.560e+02, 8.080e+02, 1.073e+03,\n",
              "        1.284e+03, 1.655e+03, 1.960e+03, 2.344e+03, 2.673e+03, 2.954e+03,\n",
              "        3.212e+03, 3.255e+03, 3.370e+03, 3.278e+03, 3.229e+03, 2.993e+03,\n",
              "        2.657e+03, 2.389e+03, 2.056e+03, 1.746e+03, 1.379e+03, 1.131e+03,\n",
              "        7.920e+02, 6.120e+02, 4.650e+02, 3.200e+02, 1.940e+02, 1.230e+02,\n",
              "        8.200e+01, 5.600e+01, 3.800e+01, 2.500e+01, 9.000e+00, 7.000e+00,\n",
              "        3.000e+00, 2.000e+00]),\n",
              " array([-998.68361154, -961.04709682, -923.4105821 , -885.77406738,\n",
              "        -848.13755266, -810.50103794, -772.86452322, -735.2280085 ,\n",
              "        -697.59149378, -659.95497906, -622.31846433, -584.68194961,\n",
              "        -547.04543489, -509.40892017, -471.77240545, -434.13589073,\n",
              "        -396.49937601, -358.86286129, -321.22634657, -283.58983185,\n",
              "        -245.95331713, -208.31680241, -170.68028769, -133.04377297,\n",
              "         -95.40725825,  -57.77074352,  -20.1342288 ,   17.50228592,\n",
              "          55.13880064,   92.77531536,  130.41183008,  168.0483448 ,\n",
              "         205.68485952,  243.32137424,  280.95788896,  318.59440368,\n",
              "         356.2309184 ,  393.86743312,  431.50394784,  469.14046257,\n",
              "         506.77697729,  544.41349201,  582.05000673,  619.68652145,\n",
              "         657.32303617,  694.95955089,  732.59606561,  770.23258033,\n",
              "         807.86909505,  845.50560977,  883.14212449]),\n",
              " <a list of 50 Patch objects>)"
            ]
          },
          "metadata": {
            "tags": []
          },
          "execution_count": 91
        },
        {
          "output_type": "display_data",
          "data": {
            "image/png": "[encoded data removed]",
            "text/plain": [
              "<Figure size 432x288 with 1 Axes>"
            ]
          },
          "metadata": {
            "tags": []
          }
        }
      ]
    },
    {
      "cell_type": "code",
      "metadata": {
        "id": "zizDAPt-QImc",
        "colab_type": "code",
        "colab": {}
      },
      "source": [
        ""
      ],
      "execution_count": 0,
      "outputs": []
    }
  ]
}