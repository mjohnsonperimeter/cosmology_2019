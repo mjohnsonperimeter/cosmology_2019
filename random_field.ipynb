{
  "nbformat": 4,
  "nbformat_minor": 0,
  "metadata": {
    "colab": {
      "name": "random_field.ipynb",
      "provenance": [],
      "collapsed_sections": [],
      "authorship_tag": "ABX9TyPOYqxwTgcpAMzXrMrcEBNa",
      "include_colab_link": true
    },
    "kernelspec": {
      "name": "python3",
      "display_name": "Python 3"
    }
  },
  "cells": [
    {
      "cell_type": "markdown",
      "metadata": {
        "id": "view-in-github",
        "colab_type": "text"
      },
      "source": [
        "<a href=\"https://colab.research.google.com/github/mjohnsonperimeter/cosmology_2019/blob/master/random_field.ipynb\" target=\"_parent\"><img src=\"https://colab.research.google.com/assets/colab-badge.svg\" alt=\"Open In Colab\"/></a>"
      ]
    },
    {
      "cell_type": "code",
      "metadata": {
        "id": "19yuitcTK9Xo",
        "colab_type": "code",
        "colab": {}
      },
      "source": [
        "import numpy as np\n",
        "import matplotlib\n",
        "from matplotlib import pyplot as plt"
      ],
      "execution_count": 0,
      "outputs": []
    },
    {
      "cell_type": "code",
      "metadata": {
        "id": "vPTY4hZjN2WZ",
        "colab_type": "code",
        "colab": {}
      },
      "source": [
        "L = 10\n",
        "N = 100000\n",
        "dx = L/N\n",
        "x = np.linspace(0,L,N)\n",
        "\n",
        "mu = 0.\n",
        "p_sigma = 1\n",
        "p_data = np.random.normal(mu, p_sigma,N)\n",
        "\n",
        "f_data = np.fft.rfft(p_data)\n",
        "f = np.fft.rfftfreq(p_data.size,dx)\n",
        "k=2.*np.pi*f\n",
        "f_sigma = p_sigma*np.sqrt(N/2.)\n"
      ],
      "execution_count": 0,
      "outputs": []
    },
    {
      "cell_type": "code",
      "metadata": {
        "id": "iu-K3cwgOFf6",
        "colab_type": "code",
        "colab": {
          "base_uri": "https://localhost:8080/",
          "height": 282
        },
        "outputId": "45f9ed66-3218-4a16-fd8c-aebf9d127542"
      },
      "source": [
        "count, bins, ignored = plt.hist(p_data,50,density=True)\n",
        "plt.plot(bins, 1/(p_sigma * np.sqrt(2 * np.pi))*np.exp( - (bins)**2 / (2 * p_sigma**2) ),linewidth=2, color='r')"
      ],
      "execution_count": 135,
      "outputs": [
        {
          "output_type": "execute_result",
          "data": {
            "text/plain": [
              "[<matplotlib.lines.Line2D at 0x7f0d8e15c9b0>]"
            ]
          },
          "metadata": {
            "tags": []
          },
          "execution_count": 135
        },
        {
          "output_type": "display_data",
          "data": {
            "image/png": "[encoded data removed]",
            "text/plain": [
              "<Figure size 432x288 with 1 Axes>"
            ]
          },
          "metadata": {
            "tags": []
          }
        }
      ]
    },
    {
      "cell_type": "code",
      "metadata": {
        "id": "A4snljRaPfnV",
        "colab_type": "code",
        "colab": {
          "base_uri": "https://localhost:8080/",
          "height": 282
        },
        "outputId": "eb066f33-c7a5-4266-95cd-8bde983c0341"
      },
      "source": [
        "count, bins, ignored = plt.hist(f_data.real,50,density=True)\n",
        "plt.plot(bins, 1/(f_sigma * np.sqrt(2 * np.pi))*np.exp( - (bins)**2 / (2 * f_sigma**2) ),linewidth=2, color='r')"
      ],
      "execution_count": 134,
      "outputs": [
        {
          "output_type": "execute_result",
          "data": {
            "text/plain": [
              "[<matplotlib.lines.Line2D at 0x7f0d8e2ebe10>]"
            ]
          },
          "metadata": {
            "tags": []
          },
          "execution_count": 134
        },
        {
          "output_type": "display_data",
          "data": {
            "image/png": "[encoded data removed]",
            "text/plain": [
              "<Figure size 432x288 with 1 Axes>"
            ]
          },
          "metadata": {
            "tags": []
          }
        }
      ]
    },
    {
      "cell_type": "code",
      "metadata": {
        "id": "zizDAPt-QImc",
        "colab_type": "code",
        "colab": {
          "base_uri": "https://localhost:8080/",
          "height": 282
        },
        "outputId": "0c8cc79d-55d9-49ce-8eb4-ce1f84913960"
      },
      "source": [
        "L = 10\n",
        "N = 100000\n",
        "dx = L/N\n",
        "x = np.linspace(0,L,N)\n",
        "\n",
        "f_mu = 0.\n",
        "f_sigma = np.sqrt(N)\n",
        "f_data_real = np.random.normal(f_mu, f_sigma,N)\n",
        "f_data_imag = np.random.normal(f_mu, f_sigma,N)\n",
        "\n",
        "p_data = np.fft.irfft(f_data_real + 1j*f_data_imag)\n",
        "\n",
        "count, bins, ignored = plt.hist(p_data,50,density=True)\n",
        "plt.plot(bins, 1/(p_sigma * np.sqrt(2 * np.pi))*np.exp( - (bins)**2 / (2 * p_sigma**2) ),linewidth=2, color='r')"
      ],
      "execution_count": 149,
      "outputs": [
        {
          "output_type": "execute_result",
          "data": {
            "text/plain": [
              "[<matplotlib.lines.Line2D at 0x7f0d8e010da0>]"
            ]
          },
          "metadata": {
            "tags": []
          },
          "execution_count": 149
        },
        {
          "output_type": "display_data",
          "data": {
            "image/png": "[encoded data removed]",
            "text/plain": [
              "<Figure size 432x288 with 1 Axes>"
            ]
          },
          "metadata": {
            "tags": []
          }
        }
      ]
    },
    {
      "cell_type": "code",
      "metadata": {
        "id": "PzBrOBjR_X_t",
        "colab_type": "code",
        "colab": {
          "base_uri": "https://localhost:8080/",
          "height": 34
        },
        "outputId": "c3de355e-3b2d-43a1-ebb4-a874e1fe9a57"
      },
      "source": [
        "np.sqrt((f_data.size))*(p_sigma)"
      ],
      "execution_count": 119,
      "outputs": [
        {
          "output_type": "execute_result",
          "data": {
            "text/plain": [
              "223.81951136478233"
            ]
          },
          "metadata": {
            "tags": []
          },
          "execution_count": 119
        }
      ]
    },
    {
      "cell_type": "code",
      "metadata": {
        "id": "ER1H09koAJNo",
        "colab_type": "code",
        "colab": {
          "base_uri": "https://localhost:8080/",
          "height": 34
        },
        "outputId": "b356e705-8b77-4535-f1e2-2e1f5f8a141a"
      },
      "source": [
        "f_data.size"
      ],
      "execution_count": 124,
      "outputs": [
        {
          "output_type": "execute_result",
          "data": {
            "text/plain": [
              "50001"
            ]
          },
          "metadata": {
            "tags": []
          },
          "execution_count": 124
        }
      ]
    },
    {
      "cell_type": "code",
      "metadata": {
        "id": "nzlWgGUlBAMR",
        "colab_type": "code",
        "colab": {}
      },
      "source": [
        ""
      ],
      "execution_count": 0,
      "outputs": []
    }
  ]
}